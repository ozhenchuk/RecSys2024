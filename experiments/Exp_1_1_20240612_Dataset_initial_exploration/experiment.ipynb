{
 "cells": [
  {
   "cell_type": "markdown",
   "id": "52bad0ca-cc6f-4bbd-8f3b-25796fb42ad1",
   "metadata": {},
   "source": [
    "# Experiment 1.1: Dataset intial exploration\n",
    "\n",
    "Dataset selected: [MovieLens Dataset [1M version]](https://grouplens.org/datasets/movielens/1m/).\n",
    "\n",
    "Dataset README.txt overview: [[1]](https://files.grouplens.org/datasets/movielens/ml-1m-README.txt).\n",
    "\n",
    "Let's first read the `ratings.dat` file as the main one we should be using in this part of the work and develop a script to read all of the similarly-structured data:"
   ]
  },
  {
   "cell_type": "code",
   "execution_count": 14,
   "id": "3be823b5-c81b-485d-8d39-f61e996b2b55",
   "metadata": {},
   "outputs": [],
   "source": [
    "import numpy as np\n",
    "import pandas as pd\n",
    "import scipy"
   ]
  },
  {
   "cell_type": "code",
   "execution_count": 7,
   "id": "65e58d93-1ad9-440e-9d09-957df1381a4a",
   "metadata": {},
   "outputs": [
    {
     "name": "stdout",
     "output_type": "stream",
     "text": [
      "movies.dat  ratings.dat  README  users.dat\n"
     ]
    }
   ],
   "source": [
    "!ls ../../data/ml-1m"
   ]
  },
  {
   "cell_type": "code",
   "execution_count": 12,
   "id": "cdd91377-5f46-48b3-9a4e-c07a5119dcbd",
   "metadata": {},
   "outputs": [
    {
     "name": "stderr",
     "output_type": "stream",
     "text": [
      "/tmp/ipykernel_378413/3427229333.py:1: ParserWarning: Falling back to the 'python' engine because the 'c' engine does not support regex separators (separators > 1 char and different from '\\s+' are interpreted as regex); you can avoid this warning by specifying engine='python'.\n",
      "  df_ratings = pd.read_csv('../../data/ml-1m/ratings.dat',\n"
     ]
    }
   ],
   "source": [
    "df_ratings = pd.read_csv('../../data/ml-1m/ratings.dat',\n",
    "                         delimiter='::',\n",
    "                         header=None,\n",
    "                         names=['UserID','MovieID','Rating','Timestamp'])"
   ]
  },
  {
   "cell_type": "code",
   "execution_count": 13,
   "id": "5b541914-723a-47da-9537-2ce00a8dbf11",
   "metadata": {},
   "outputs": [
    {
     "data": {
      "text/html": [
       "<div>\n",
       "<style scoped>\n",
       "    .dataframe tbody tr th:only-of-type {\n",
       "        vertical-align: middle;\n",
       "    }\n",
       "\n",
       "    .dataframe tbody tr th {\n",
       "        vertical-align: top;\n",
       "    }\n",
       "\n",
       "    .dataframe thead th {\n",
       "        text-align: right;\n",
       "    }\n",
       "</style>\n",
       "<table border=\"1\" class=\"dataframe\">\n",
       "  <thead>\n",
       "    <tr style=\"text-align: right;\">\n",
       "      <th></th>\n",
       "      <th>UserID</th>\n",
       "      <th>MovieID</th>\n",
       "      <th>Rating</th>\n",
       "      <th>Timestamp</th>\n",
       "    </tr>\n",
       "  </thead>\n",
       "  <tbody>\n",
       "    <tr>\n",
       "      <th>0</th>\n",
       "      <td>1</td>\n",
       "      <td>1193</td>\n",
       "      <td>5</td>\n",
       "      <td>978300760</td>\n",
       "    </tr>\n",
       "    <tr>\n",
       "      <th>1</th>\n",
       "      <td>1</td>\n",
       "      <td>661</td>\n",
       "      <td>3</td>\n",
       "      <td>978302109</td>\n",
       "    </tr>\n",
       "    <tr>\n",
       "      <th>2</th>\n",
       "      <td>1</td>\n",
       "      <td>914</td>\n",
       "      <td>3</td>\n",
       "      <td>978301968</td>\n",
       "    </tr>\n",
       "    <tr>\n",
       "      <th>3</th>\n",
       "      <td>1</td>\n",
       "      <td>3408</td>\n",
       "      <td>4</td>\n",
       "      <td>978300275</td>\n",
       "    </tr>\n",
       "    <tr>\n",
       "      <th>4</th>\n",
       "      <td>1</td>\n",
       "      <td>2355</td>\n",
       "      <td>5</td>\n",
       "      <td>978824291</td>\n",
       "    </tr>\n",
       "  </tbody>\n",
       "</table>\n",
       "</div>"
      ],
      "text/plain": [
       "   UserID  MovieID  Rating  Timestamp\n",
       "0       1     1193       5  978300760\n",
       "1       1      661       3  978302109\n",
       "2       1      914       3  978301968\n",
       "3       1     3408       4  978300275\n",
       "4       1     2355       5  978824291"
      ]
     },
     "execution_count": 13,
     "metadata": {},
     "output_type": "execute_result"
    }
   ],
   "source": [
    "df_ratings.head()"
   ]
  },
  {
   "cell_type": "markdown",
   "id": "295466e4-d96a-483c-a026-bab282e53d30",
   "metadata": {},
   "source": [
    "## Converting to a sparce matrix\n",
    "\n",
    "Let's convert our data into a sparse `scipy` matrix for more efficient evaluation and likely, future statistics computations. We are also likely to do an evaluation framework based on this approach.\n",
    "\n",
    "**Note:** due to indices in the sparce matrices starting from 0 and the IDs in the data starting from 1, the pairs indices in the sparce matrices will correspond to (`UserID` - 1,`MovieID` - 1).\n",
    "\n",
    "Let's do the test run on the first 10 rankings:"
   ]
  },
  {
   "cell_type": "code",
   "execution_count": 42,
   "id": "04a7b54d-552e-4f79-8389-e82b9d0a1986",
   "metadata": {},
   "outputs": [],
   "source": [
    "dict_ratings = df_ratings[['UserID','MovieID','Rating']][:10]"
   ]
  },
  {
   "cell_type": "code",
   "execution_count": 43,
   "id": "23a2f00f-32e7-40d8-8c11-3876b07d67b7",
   "metadata": {},
   "outputs": [
    {
     "data": {
      "text/html": [
       "<div>\n",
       "<style scoped>\n",
       "    .dataframe tbody tr th:only-of-type {\n",
       "        vertical-align: middle;\n",
       "    }\n",
       "\n",
       "    .dataframe tbody tr th {\n",
       "        vertical-align: top;\n",
       "    }\n",
       "\n",
       "    .dataframe thead th {\n",
       "        text-align: right;\n",
       "    }\n",
       "</style>\n",
       "<table border=\"1\" class=\"dataframe\">\n",
       "  <thead>\n",
       "    <tr style=\"text-align: right;\">\n",
       "      <th></th>\n",
       "      <th>UserID</th>\n",
       "      <th>MovieID</th>\n",
       "      <th>Rating</th>\n",
       "    </tr>\n",
       "  </thead>\n",
       "  <tbody>\n",
       "    <tr>\n",
       "      <th>0</th>\n",
       "      <td>1</td>\n",
       "      <td>1193</td>\n",
       "      <td>5</td>\n",
       "    </tr>\n",
       "    <tr>\n",
       "      <th>1</th>\n",
       "      <td>1</td>\n",
       "      <td>661</td>\n",
       "      <td>3</td>\n",
       "    </tr>\n",
       "    <tr>\n",
       "      <th>2</th>\n",
       "      <td>1</td>\n",
       "      <td>914</td>\n",
       "      <td>3</td>\n",
       "    </tr>\n",
       "    <tr>\n",
       "      <th>3</th>\n",
       "      <td>1</td>\n",
       "      <td>3408</td>\n",
       "      <td>4</td>\n",
       "    </tr>\n",
       "    <tr>\n",
       "      <th>4</th>\n",
       "      <td>1</td>\n",
       "      <td>2355</td>\n",
       "      <td>5</td>\n",
       "    </tr>\n",
       "    <tr>\n",
       "      <th>5</th>\n",
       "      <td>1</td>\n",
       "      <td>1197</td>\n",
       "      <td>3</td>\n",
       "    </tr>\n",
       "    <tr>\n",
       "      <th>6</th>\n",
       "      <td>1</td>\n",
       "      <td>1287</td>\n",
       "      <td>5</td>\n",
       "    </tr>\n",
       "    <tr>\n",
       "      <th>7</th>\n",
       "      <td>1</td>\n",
       "      <td>2804</td>\n",
       "      <td>5</td>\n",
       "    </tr>\n",
       "    <tr>\n",
       "      <th>8</th>\n",
       "      <td>1</td>\n",
       "      <td>594</td>\n",
       "      <td>4</td>\n",
       "    </tr>\n",
       "    <tr>\n",
       "      <th>9</th>\n",
       "      <td>1</td>\n",
       "      <td>919</td>\n",
       "      <td>4</td>\n",
       "    </tr>\n",
       "  </tbody>\n",
       "</table>\n",
       "</div>"
      ],
      "text/plain": [
       "   UserID  MovieID  Rating\n",
       "0       1     1193       5\n",
       "1       1      661       3\n",
       "2       1      914       3\n",
       "3       1     3408       4\n",
       "4       1     2355       5\n",
       "5       1     1197       3\n",
       "6       1     1287       5\n",
       "7       1     2804       5\n",
       "8       1      594       4\n",
       "9       1      919       4"
      ]
     },
     "execution_count": 43,
     "metadata": {},
     "output_type": "execute_result"
    }
   ],
   "source": [
    "dict_ratings"
   ]
  },
  {
   "cell_type": "code",
   "execution_count": 29,
   "id": "61e0c85e-30e6-4b42-b719-370018cddf30",
   "metadata": {},
   "outputs": [],
   "source": [
    "from sklearn.metrics.pairwise import cosine_similarity"
   ]
  },
  {
   "cell_type": "code",
   "execution_count": 54,
   "id": "a6c2d96b-14f0-47c2-9040-9b8fc0744df4",
   "metadata": {},
   "outputs": [],
   "source": [
    "sparse_ratings = scipy.sparse.csr_matrix((dict_ratings['Rating'],\n",
    "                                          (dict_ratings['UserID'] - 1, dict_ratings['MovieID'] - 1)))"
   ]
  },
  {
   "cell_type": "code",
   "execution_count": 55,
   "id": "ba0702e0-e6ea-440b-8b8d-662e1aadfeb4",
   "metadata": {},
   "outputs": [
    {
     "name": "stdout",
     "output_type": "stream",
     "text": [
      "  (0, 593)\t4\n",
      "  (0, 660)\t3\n",
      "  (0, 913)\t3\n",
      "  (0, 918)\t4\n",
      "  (0, 1192)\t5\n",
      "  (0, 1196)\t3\n",
      "  (0, 1286)\t5\n",
      "  (0, 2354)\t5\n",
      "  (0, 2803)\t5\n",
      "  (0, 3407)\t4\n"
     ]
    }
   ],
   "source": [
    "print(sparse_ratings)"
   ]
  },
  {
   "cell_type": "code",
   "execution_count": 57,
   "id": "a2d14b06-0ac6-4e4b-91b3-9e5ddc8becc5",
   "metadata": {},
   "outputs": [
    {
     "data": {
      "text/plain": [
       "(1, 3408)"
      ]
     },
     "execution_count": 57,
     "metadata": {},
     "output_type": "execute_result"
    }
   ],
   "source": [
    "sparse_ratings.shape"
   ]
  },
  {
   "cell_type": "markdown",
   "id": "27cb4844-6601-4005-bff5-50ca8d95e605",
   "metadata": {},
   "source": [
    "Here, we test our first user-user comparison metric:"
   ]
  },
  {
   "cell_type": "code",
   "execution_count": 56,
   "id": "926b91f5-9a30-496f-9f80-ad12700e5f81",
   "metadata": {},
   "outputs": [
    {
     "data": {
      "text/plain": [
       "array([[1.]])"
      ]
     },
     "execution_count": 56,
     "metadata": {},
     "output_type": "execute_result"
    }
   ],
   "source": [
    "cosine_similarity(sparse_ratings)"
   ]
  },
  {
   "cell_type": "markdown",
   "id": "8f4270c3-aa52-42f5-9d4b-07b630c90e84",
   "metadata": {},
   "source": [
    "Which works on this data format.\n",
    "\n",
    "And then on the entire dataset:"
   ]
  },
  {
   "cell_type": "code",
   "execution_count": 58,
   "id": "110e884b-aa7e-464a-a274-f0e3b9b23e32",
   "metadata": {},
   "outputs": [],
   "source": [
    "sparse_ratings = scipy.sparse.csr_matrix((df_ratings['Rating'],\n",
    "                                          (df_ratings['UserID'] - 1, df_ratings['MovieID'] - 1)))"
   ]
  },
  {
   "cell_type": "code",
   "execution_count": 59,
   "id": "b3d6357f-9dec-4a6a-b99f-512139e9253e",
   "metadata": {},
   "outputs": [
    {
     "data": {
      "text/plain": [
       "(6040, 3952)"
      ]
     },
     "execution_count": 59,
     "metadata": {},
     "output_type": "execute_result"
    }
   ],
   "source": [
    "sparse_ratings.shape"
   ]
  },
  {
   "cell_type": "markdown",
   "id": "12f4841a-7473-4bbf-a849-8826c40550b8",
   "metadata": {},
   "source": [
    "Exactly as our data dimensions, which means that we've successfully transformed it."
   ]
  },
  {
   "cell_type": "code",
   "execution_count": 60,
   "id": "c5e65fa9-e424-4ea6-8b25-0d3e1aea41b5",
   "metadata": {},
   "outputs": [
    {
     "data": {
      "text/plain": [
       "array([[1.        , 0.09638153, 0.12060981, ..., 0.        , 0.17460369,\n",
       "        0.13359025],\n",
       "       [0.09638153, 1.        , 0.1514786 , ..., 0.06611767, 0.0664575 ,\n",
       "        0.21827563],\n",
       "       [0.12060981, 0.1514786 , 1.        , ..., 0.12023352, 0.09467506,\n",
       "        0.13314404],\n",
       "       ...,\n",
       "       [0.        , 0.06611767, 0.12023352, ..., 1.        , 0.16171426,\n",
       "        0.09930008],\n",
       "       [0.17460369, 0.0664575 , 0.09467506, ..., 0.16171426, 1.        ,\n",
       "        0.22833237],\n",
       "       [0.13359025, 0.21827563, 0.13314404, ..., 0.09930008, 0.22833237,\n",
       "        1.        ]])"
      ]
     },
     "execution_count": 60,
     "metadata": {},
     "output_type": "execute_result"
    }
   ],
   "source": [
    "cosine_similarity(sparse_ratings)"
   ]
  },
  {
   "cell_type": "markdown",
   "id": "db02d493-1613-4662-a328-93b6c2096466",
   "metadata": {},
   "source": [
    "So now we now that we have a way to efficiently compute the evaluation metrics. Now we can start the EDA of the whole dataset.\n",
    "\n",
    "Primarily, we will inspect how the users' rating are similar with each other, and also how similar are the movies rated. Are there any specific groups of users or movies? Are there any relation of the movies ratings to their genres? Are the similar users providing the similar ratings to the movies from the same cluster or genre? Are the users' preferences influenced by their age, gender, occupation, or even location (which we can know from the zip-code in the data)? Are there any geographical anomalies in the ratings? Do the user's preferences and rating change with time? Are there some movies, which average rating changes with time over a moving time period? Do the changes in the way the movies are rated depend om their genre, meaning some of the genres are higher rated in some time periods? Is the data consistent at all, does it have some missing or possibly incorrect values, and should we do anything to clean it?\n",
    "\n",
    "These are the main questions that we would like to answer with our exploratory data analysis, judging for the dataset infromation available. So, let's do this."
   ]
  },
  {
   "cell_type": "code",
   "execution_count": null,
   "id": "5ec565ee-78aa-401a-9312-f773ee16de1e",
   "metadata": {},
   "outputs": [],
   "source": []
  },
  {
   "cell_type": "code",
   "execution_count": null,
   "id": "c834ae3e-45eb-4cac-a587-a892ddbaa8fa",
   "metadata": {},
   "outputs": [],
   "source": []
  }
 ],
 "metadata": {
  "kernelspec": {
   "display_name": "Python 3 (ipykernel)",
   "language": "python",
   "name": "python3"
  },
  "language_info": {
   "codemirror_mode": {
    "name": "ipython",
    "version": 3
   },
   "file_extension": ".py",
   "mimetype": "text/x-python",
   "name": "python",
   "nbconvert_exporter": "python",
   "pygments_lexer": "ipython3",
   "version": "3.11.5"
  }
 },
 "nbformat": 4,
 "nbformat_minor": 5
}
