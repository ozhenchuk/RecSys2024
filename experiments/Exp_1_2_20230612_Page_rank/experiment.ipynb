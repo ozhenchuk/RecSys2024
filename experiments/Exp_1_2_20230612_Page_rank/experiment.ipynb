{
 "cells": [
  {
   "cell_type": "code",
   "execution_count": 33,
   "id": "e68c85e5",
   "metadata": {},
   "outputs": [
    {
     "name": "stderr",
     "output_type": "stream",
     "text": [
      "Fontconfig warning: ignoring UTF-8: not a valid region tag\n"
     ]
    }
   ],
   "source": [
    "import pandas as pd\n",
    "import networkx as nx\n",
    "import matplotlib.pyplot as plt"
   ]
  },
  {
   "cell_type": "markdown",
   "id": "35585e51",
   "metadata": {},
   "source": [
    "## Loading dataset\n",
    "\n",
    "Before running this experiment please make sure you have downloaded a dataset to a specified location.\n",
    "You can do it by running `python scripts/dataset.py`.\n",
    "\n",
    "See `README.md` for detailed instructions."
   ]
  },
  {
   "cell_type": "code",
   "execution_count": 14,
   "id": "5c5493fa",
   "metadata": {},
   "outputs": [],
   "source": [
    "movies = pd.read_csv('../../data/ml-1m/movies.dat', sep='::', header=None, names=['movie_id', 'title', 'genres'], engine='python', encoding='latin-1')\n",
    "ratings = pd.read_csv('../../data/ml-1m/ratings.dat', sep='::', header=None, names=['user_id', 'movie_id', 'rating', 'timestamp'], engine='python', encoding='latin-1')\n",
    "users = pd.read_csv('../../data/ml-1m/users.dat', sep='::', header=None, names=['user_id', 'gender', 'age', 'occupation', 'zip_code'], engine='python', encoding='latin-1')"
   ]
  },
  {
   "cell_type": "code",
   "execution_count": 15,
   "id": "55bd416b",
   "metadata": {},
   "outputs": [
    {
     "data": {
      "text/html": [
       "<div>\n",
       "<style scoped>\n",
       "    .dataframe tbody tr th:only-of-type {\n",
       "        vertical-align: middle;\n",
       "    }\n",
       "\n",
       "    .dataframe tbody tr th {\n",
       "        vertical-align: top;\n",
       "    }\n",
       "\n",
       "    .dataframe thead th {\n",
       "        text-align: right;\n",
       "    }\n",
       "</style>\n",
       "<table border=\"1\" class=\"dataframe\">\n",
       "  <thead>\n",
       "    <tr style=\"text-align: right;\">\n",
       "      <th></th>\n",
       "      <th>movie_id</th>\n",
       "      <th>title</th>\n",
       "      <th>genres</th>\n",
       "    </tr>\n",
       "  </thead>\n",
       "  <tbody>\n",
       "    <tr>\n",
       "      <th>0</th>\n",
       "      <td>1</td>\n",
       "      <td>Toy Story (1995)</td>\n",
       "      <td>Animation|Children's|Comedy</td>\n",
       "    </tr>\n",
       "    <tr>\n",
       "      <th>1</th>\n",
       "      <td>2</td>\n",
       "      <td>Jumanji (1995)</td>\n",
       "      <td>Adventure|Children's|Fantasy</td>\n",
       "    </tr>\n",
       "    <tr>\n",
       "      <th>2</th>\n",
       "      <td>3</td>\n",
       "      <td>Grumpier Old Men (1995)</td>\n",
       "      <td>Comedy|Romance</td>\n",
       "    </tr>\n",
       "    <tr>\n",
       "      <th>3</th>\n",
       "      <td>4</td>\n",
       "      <td>Waiting to Exhale (1995)</td>\n",
       "      <td>Comedy|Drama</td>\n",
       "    </tr>\n",
       "    <tr>\n",
       "      <th>4</th>\n",
       "      <td>5</td>\n",
       "      <td>Father of the Bride Part II (1995)</td>\n",
       "      <td>Comedy</td>\n",
       "    </tr>\n",
       "  </tbody>\n",
       "</table>\n",
       "</div>"
      ],
      "text/plain": [
       "   movie_id                               title                        genres\n",
       "0         1                    Toy Story (1995)   Animation|Children's|Comedy\n",
       "1         2                      Jumanji (1995)  Adventure|Children's|Fantasy\n",
       "2         3             Grumpier Old Men (1995)                Comedy|Romance\n",
       "3         4            Waiting to Exhale (1995)                  Comedy|Drama\n",
       "4         5  Father of the Bride Part II (1995)                        Comedy"
      ]
     },
     "execution_count": 15,
     "metadata": {},
     "output_type": "execute_result"
    }
   ],
   "source": [
    "movies.head()"
   ]
  },
  {
   "cell_type": "code",
   "execution_count": 16,
   "id": "4c7a6884",
   "metadata": {},
   "outputs": [
    {
     "data": {
      "text/html": [
       "<div>\n",
       "<style scoped>\n",
       "    .dataframe tbody tr th:only-of-type {\n",
       "        vertical-align: middle;\n",
       "    }\n",
       "\n",
       "    .dataframe tbody tr th {\n",
       "        vertical-align: top;\n",
       "    }\n",
       "\n",
       "    .dataframe thead th {\n",
       "        text-align: right;\n",
       "    }\n",
       "</style>\n",
       "<table border=\"1\" class=\"dataframe\">\n",
       "  <thead>\n",
       "    <tr style=\"text-align: right;\">\n",
       "      <th></th>\n",
       "      <th>user_id</th>\n",
       "      <th>movie_id</th>\n",
       "      <th>rating</th>\n",
       "      <th>timestamp</th>\n",
       "    </tr>\n",
       "  </thead>\n",
       "  <tbody>\n",
       "    <tr>\n",
       "      <th>0</th>\n",
       "      <td>1</td>\n",
       "      <td>1193</td>\n",
       "      <td>5</td>\n",
       "      <td>978300760</td>\n",
       "    </tr>\n",
       "    <tr>\n",
       "      <th>1</th>\n",
       "      <td>1</td>\n",
       "      <td>661</td>\n",
       "      <td>3</td>\n",
       "      <td>978302109</td>\n",
       "    </tr>\n",
       "    <tr>\n",
       "      <th>2</th>\n",
       "      <td>1</td>\n",
       "      <td>914</td>\n",
       "      <td>3</td>\n",
       "      <td>978301968</td>\n",
       "    </tr>\n",
       "    <tr>\n",
       "      <th>3</th>\n",
       "      <td>1</td>\n",
       "      <td>3408</td>\n",
       "      <td>4</td>\n",
       "      <td>978300275</td>\n",
       "    </tr>\n",
       "    <tr>\n",
       "      <th>4</th>\n",
       "      <td>1</td>\n",
       "      <td>2355</td>\n",
       "      <td>5</td>\n",
       "      <td>978824291</td>\n",
       "    </tr>\n",
       "  </tbody>\n",
       "</table>\n",
       "</div>"
      ],
      "text/plain": [
       "   user_id  movie_id  rating  timestamp\n",
       "0        1      1193       5  978300760\n",
       "1        1       661       3  978302109\n",
       "2        1       914       3  978301968\n",
       "3        1      3408       4  978300275\n",
       "4        1      2355       5  978824291"
      ]
     },
     "execution_count": 16,
     "metadata": {},
     "output_type": "execute_result"
    }
   ],
   "source": [
    "ratings.head()"
   ]
  },
  {
   "cell_type": "code",
   "execution_count": 17,
   "id": "05dca39b",
   "metadata": {},
   "outputs": [
    {
     "data": {
      "text/html": [
       "<div>\n",
       "<style scoped>\n",
       "    .dataframe tbody tr th:only-of-type {\n",
       "        vertical-align: middle;\n",
       "    }\n",
       "\n",
       "    .dataframe tbody tr th {\n",
       "        vertical-align: top;\n",
       "    }\n",
       "\n",
       "    .dataframe thead th {\n",
       "        text-align: right;\n",
       "    }\n",
       "</style>\n",
       "<table border=\"1\" class=\"dataframe\">\n",
       "  <thead>\n",
       "    <tr style=\"text-align: right;\">\n",
       "      <th></th>\n",
       "      <th>user_id</th>\n",
       "      <th>gender</th>\n",
       "      <th>age</th>\n",
       "      <th>occupation</th>\n",
       "      <th>zip_code</th>\n",
       "    </tr>\n",
       "  </thead>\n",
       "  <tbody>\n",
       "    <tr>\n",
       "      <th>0</th>\n",
       "      <td>1</td>\n",
       "      <td>F</td>\n",
       "      <td>1</td>\n",
       "      <td>10</td>\n",
       "      <td>48067</td>\n",
       "    </tr>\n",
       "    <tr>\n",
       "      <th>1</th>\n",
       "      <td>2</td>\n",
       "      <td>M</td>\n",
       "      <td>56</td>\n",
       "      <td>16</td>\n",
       "      <td>70072</td>\n",
       "    </tr>\n",
       "    <tr>\n",
       "      <th>2</th>\n",
       "      <td>3</td>\n",
       "      <td>M</td>\n",
       "      <td>25</td>\n",
       "      <td>15</td>\n",
       "      <td>55117</td>\n",
       "    </tr>\n",
       "    <tr>\n",
       "      <th>3</th>\n",
       "      <td>4</td>\n",
       "      <td>M</td>\n",
       "      <td>45</td>\n",
       "      <td>7</td>\n",
       "      <td>02460</td>\n",
       "    </tr>\n",
       "    <tr>\n",
       "      <th>4</th>\n",
       "      <td>5</td>\n",
       "      <td>M</td>\n",
       "      <td>25</td>\n",
       "      <td>20</td>\n",
       "      <td>55455</td>\n",
       "    </tr>\n",
       "  </tbody>\n",
       "</table>\n",
       "</div>"
      ],
      "text/plain": [
       "   user_id gender  age  occupation zip_code\n",
       "0        1      F    1          10    48067\n",
       "1        2      M   56          16    70072\n",
       "2        3      M   25          15    55117\n",
       "3        4      M   45           7    02460\n",
       "4        5      M   25          20    55455"
      ]
     },
     "execution_count": 17,
     "metadata": {},
     "output_type": "execute_result"
    }
   ],
   "source": [
    "users.head()"
   ]
  },
  {
   "cell_type": "markdown",
   "id": "61abac89",
   "metadata": {},
   "source": [
    "Dataset is loaded fine, let's move on with Page Rank Graph.\n",
    "\n",
    "We decided to make graph using `networkx` package.\n",
    "\n",
    "Graph consists of `user_id`, `movie_id` and `rating` as a weights."
   ]
  },
  {
   "cell_type": "code",
   "execution_count": 18,
   "id": "888ef18f",
   "metadata": {},
   "outputs": [],
   "source": [
    "# Graph initialization\n",
    "G = nx.Graph()"
   ]
  },
  {
   "cell_type": "code",
   "execution_count": 19,
   "id": "933cf240",
   "metadata": {},
   "outputs": [],
   "source": [
    "# Adding nodes with the bipartite attributes\n",
    "user_nodes = ratings['user_id'].unique()\n",
    "movie_nodes = ratings['movie_id'].unique()\n",
    "\n",
    "G.add_nodes_from(user_nodes, bipartite=0)\n",
    "G.add_nodes_from(movie_nodes, bipartite=1)"
   ]
  },
  {
   "cell_type": "code",
   "execution_count": 20,
   "id": "75e54a7a",
   "metadata": {},
   "outputs": [],
   "source": [
    "# Now we addind enges using ratings as a weights\n",
    "edges = [(row['user_id'], row['movie_id'], row['rating']) for index, row in ratings.iterrows()]\n",
    "G.add_weighted_edges_from(edges)"
   ]
  },
  {
   "cell_type": "code",
   "execution_count": 22,
   "id": "a76bda13",
   "metadata": {},
   "outputs": [],
   "source": [
    "# Now we can proceed with Page Rank\n",
    "pagerank_scores = nx.pagerank(G, weight='weight')"
   ]
  },
  {
   "cell_type": "markdown",
   "id": "29d93baf",
   "metadata": {},
   "source": [
    "Since we have a Page Rank scores, we can now separate users and movies scores in order to procced."
   ]
  },
  {
   "cell_type": "code",
   "execution_count": 24,
   "id": "0c89c55c",
   "metadata": {},
   "outputs": [],
   "source": [
    "user_pagerank = {k: v for k, v in pagerank_scores.items() if k in user_nodes}\n",
    "movie_pagerank = {k: v for k, v in pagerank_scores.items() if k in movie_nodes}"
   ]
  },
  {
   "cell_type": "markdown",
   "id": "0b3f2f60",
   "metadata": {},
   "source": [
    "For analysis purposes let's display top 10 users and movies respectively."
   ]
  },
  {
   "cell_type": "code",
   "execution_count": 28,
   "id": "6e373532",
   "metadata": {},
   "outputs": [
    {
     "data": {
      "text/html": [
       "<div>\n",
       "<style scoped>\n",
       "    .dataframe tbody tr th:only-of-type {\n",
       "        vertical-align: middle;\n",
       "    }\n",
       "\n",
       "    .dataframe tbody tr th {\n",
       "        vertical-align: top;\n",
       "    }\n",
       "\n",
       "    .dataframe thead th {\n",
       "        text-align: right;\n",
       "    }\n",
       "</style>\n",
       "<table border=\"1\" class=\"dataframe\">\n",
       "  <thead>\n",
       "    <tr style=\"text-align: right;\">\n",
       "      <th></th>\n",
       "      <th>ID</th>\n",
       "      <th>Score</th>\n",
       "    </tr>\n",
       "  </thead>\n",
       "  <tbody>\n",
       "    <tr>\n",
       "      <th>0</th>\n",
       "      <td>2858</td>\n",
       "      <td>0.002162</td>\n",
       "    </tr>\n",
       "    <tr>\n",
       "      <th>1</th>\n",
       "      <td>260</td>\n",
       "      <td>0.001858</td>\n",
       "    </tr>\n",
       "    <tr>\n",
       "      <th>2</th>\n",
       "      <td>1196</td>\n",
       "      <td>0.001765</td>\n",
       "    </tr>\n",
       "    <tr>\n",
       "      <th>3</th>\n",
       "      <td>1210</td>\n",
       "      <td>0.001615</td>\n",
       "    </tr>\n",
       "    <tr>\n",
       "      <th>4</th>\n",
       "      <td>2028</td>\n",
       "      <td>0.001597</td>\n",
       "    </tr>\n",
       "    <tr>\n",
       "      <th>5</th>\n",
       "      <td>593</td>\n",
       "      <td>0.001565</td>\n",
       "    </tr>\n",
       "    <tr>\n",
       "      <th>6</th>\n",
       "      <td>2762</td>\n",
       "      <td>0.001548</td>\n",
       "    </tr>\n",
       "    <tr>\n",
       "      <th>7</th>\n",
       "      <td>1198</td>\n",
       "      <td>0.001547</td>\n",
       "    </tr>\n",
       "    <tr>\n",
       "      <th>8</th>\n",
       "      <td>2571</td>\n",
       "      <td>0.001517</td>\n",
       "    </tr>\n",
       "    <tr>\n",
       "      <th>9</th>\n",
       "      <td>589</td>\n",
       "      <td>0.001464</td>\n",
       "    </tr>\n",
       "  </tbody>\n",
       "</table>\n",
       "</div>"
      ],
      "text/plain": [
       "     ID     Score\n",
       "0  2858  0.002162\n",
       "1   260  0.001858\n",
       "2  1196  0.001765\n",
       "3  1210  0.001615\n",
       "4  2028  0.001597\n",
       "5   593  0.001565\n",
       "6  2762  0.001548\n",
       "7  1198  0.001547\n",
       "8  2571  0.001517\n",
       "9   589  0.001464"
      ]
     },
     "execution_count": 28,
     "metadata": {},
     "output_type": "execute_result"
    }
   ],
   "source": [
    "# Using pandas DataFrame to make displaing a little bit fancier.\n",
    "top_users = sorted(user_pagerank.items(), key=lambda x: x[1], reverse=True)[:10]\n",
    "top_movies = sorted(movie_pagerank.items(), key=lambda x: x[1], reverse=True)[:10]\n",
    "\n",
    "pd.DataFrame(top_users, columns=['ID', 'Score'])"
   ]
  },
  {
   "cell_type": "code",
   "execution_count": 30,
   "id": "823553ba",
   "metadata": {},
   "outputs": [
    {
     "data": {
      "text/html": [
       "<div>\n",
       "<style scoped>\n",
       "    .dataframe tbody tr th:only-of-type {\n",
       "        vertical-align: middle;\n",
       "    }\n",
       "\n",
       "    .dataframe tbody tr th {\n",
       "        vertical-align: top;\n",
       "    }\n",
       "\n",
       "    .dataframe thead th {\n",
       "        text-align: right;\n",
       "    }\n",
       "</style>\n",
       "<table border=\"1\" class=\"dataframe\">\n",
       "  <thead>\n",
       "    <tr style=\"text-align: right;\">\n",
       "      <th></th>\n",
       "      <th>ID</th>\n",
       "      <th>Score</th>\n",
       "    </tr>\n",
       "  </thead>\n",
       "  <tbody>\n",
       "    <tr>\n",
       "      <th>0</th>\n",
       "      <td>2858</td>\n",
       "      <td>0.002162</td>\n",
       "    </tr>\n",
       "    <tr>\n",
       "      <th>1</th>\n",
       "      <td>260</td>\n",
       "      <td>0.001858</td>\n",
       "    </tr>\n",
       "    <tr>\n",
       "      <th>2</th>\n",
       "      <td>1196</td>\n",
       "      <td>0.001765</td>\n",
       "    </tr>\n",
       "    <tr>\n",
       "      <th>3</th>\n",
       "      <td>1210</td>\n",
       "      <td>0.001615</td>\n",
       "    </tr>\n",
       "    <tr>\n",
       "      <th>4</th>\n",
       "      <td>2028</td>\n",
       "      <td>0.001597</td>\n",
       "    </tr>\n",
       "    <tr>\n",
       "      <th>5</th>\n",
       "      <td>593</td>\n",
       "      <td>0.001565</td>\n",
       "    </tr>\n",
       "    <tr>\n",
       "      <th>6</th>\n",
       "      <td>2762</td>\n",
       "      <td>0.001548</td>\n",
       "    </tr>\n",
       "    <tr>\n",
       "      <th>7</th>\n",
       "      <td>1198</td>\n",
       "      <td>0.001547</td>\n",
       "    </tr>\n",
       "    <tr>\n",
       "      <th>8</th>\n",
       "      <td>2571</td>\n",
       "      <td>0.001517</td>\n",
       "    </tr>\n",
       "    <tr>\n",
       "      <th>9</th>\n",
       "      <td>589</td>\n",
       "      <td>0.001464</td>\n",
       "    </tr>\n",
       "  </tbody>\n",
       "</table>\n",
       "</div>"
      ],
      "text/plain": [
       "     ID     Score\n",
       "0  2858  0.002162\n",
       "1   260  0.001858\n",
       "2  1196  0.001765\n",
       "3  1210  0.001615\n",
       "4  2028  0.001597\n",
       "5   593  0.001565\n",
       "6  2762  0.001548\n",
       "7  1198  0.001547\n",
       "8  2571  0.001517\n",
       "9   589  0.001464"
      ]
     },
     "execution_count": 30,
     "metadata": {},
     "output_type": "execute_result"
    }
   ],
   "source": [
    "pd.DataFrame(top_movies, columns=['ID', 'Score'])"
   ]
  },
  {
   "cell_type": "markdown",
   "id": "4ccd684a",
   "metadata": {},
   "source": [
    "Now let's create a plot to keep a results a little more representative"
   ]
  },
  {
   "cell_type": "code",
   "execution_count": 39,
   "id": "0502089e",
   "metadata": {},
   "outputs": [],
   "source": [
    "all_users = sorted(user_pagerank.items(), key=lambda x: x[1], reverse=True)\n",
    "all_movies = sorted(movie_pagerank.items(), key=lambda x: x[1], reverse=True)\n",
    "\n",
    "all_user_ids, all_user_scores = zip(*all_users)\n",
    "all_movie_ids, all_movie_scores = zip(*all_movies)"
   ]
  },
  {
   "cell_type": "code",
   "execution_count": 42,
   "id": "ec27019e",
   "metadata": {},
   "outputs": [
    {
     "data": {
      "image/png": "[encoded data removed]",
      "text/plain": [
       "<Figure size 1200x600 with 1 Axes>"
      ]
     },
     "metadata": {},
     "output_type": "display_data"
    }
   ],
   "source": [
    "plt.figure(figsize=(12, 6))\n",
    "plt.bar(all_user_ids, all_user_scores, color='blue')\n",
    "plt.xlabel('User ID')\n",
    "plt.ylabel('PageRank Score')\n",
    "plt.title('Users by PageRank Score')\n",
    "plt.show()"
   ]
  },
  {
   "cell_type": "code",
   "execution_count": 44,
   "id": "fad07c97",
   "metadata": {},
   "outputs": [
    {
     "data": {
      "image/png": "[encoded data removed]",
      "text/plain": [
       "<Figure size 1200x600 with 1 Axes>"
      ]
     },
     "metadata": {},
     "output_type": "display_data"
    }
   ],
   "source": [
    "plt.figure(figsize=(12, 6))\n",
    "plt.bar(all_movie_ids, all_movie_scores, color='green')\n",
    "plt.xlabel('Movie ID')\n",
    "plt.ylabel('PageRank Score')\n",
    "plt.title('Movies by PageRank Score')\n",
    "plt.show()"
   ]
  },
  {
   "cell_type": "code",
   "execution_count": 45,
   "id": "e2ebf8ec",
   "metadata": {},
   "outputs": [
    {
     "data": {
      "image/png": "[encoded data removed]",
      "text/plain": [
       "<Figure size 1200x600 with 1 Axes>"
      ]
     },
     "metadata": {},
     "output_type": "display_data"
    }
   ],
   "source": [
    "top_movie_ids, top_movie_scores = zip(*top_movies)\n",
    "plt.figure(figsize=(12, 6))\n",
    "plt.bar(top_movie_ids, top_movie_scores, color='green')\n",
    "plt.xlabel('Movie ID')\n",
    "plt.ylabel('PageRank Score')\n",
    "plt.title('Top 10 Movies by PageRank Score')\n",
    "plt.show()"
   ]
  },
  {
   "cell_type": "markdown",
   "id": "1b370d99",
   "metadata": {},
   "source": [
    "## Interpretation of results and some thoughts about Page Rank and its usability in case of a part of recommender system\n",
    "\n",
    "Using a Page Rank algoritm we found two key features, that can be handy.\n",
    "- **Users with high PageRank**\n",
    "    \n",
    "    There users can be interpreted as highly influantial in our system, meaning that they have rated many popular movies in our case. Using those values we can fine tune our recommendation system to make ratings of those users as a more important when suggesting movies to other users.\n",
    "    \n",
    "    \n",
    "- **Movies with high PageRank**\n",
    "\n",
    "    Those movies are generally high rated and well-connected with user-movie graph. We can use those movies as an popular or high-quality. So we can make a prioretization in recommendation lists.\n",
    "    \n",
    "In general by usign a PageRank we can identify influentional users and popular movies, this information can be used as an part of recommendation strategy by focusing on some core users and popular movies that can be prioritized.\n",
    "\n",
    "Also we can you PageRank scored to enhance an accurancy of collaborative filtering by giving users with high influence more weights when we calculate similarities.\n",
    "\n",
    "### Disadvantages of using PageRank\n",
    "- Computation Complexity\n",
    "    \n",
    "    Algoritm eather time-consuming or memory-consuming.\n",
    "    We should store those matrices somewhere in memory which can be as significant problem in general.\n",
    "    \n",
    "- Algoritm is biased to a popular nodes.\n",
    "    PageRank tents to flavor nodes with many connections.\n",
    "    It may lead to recommending only popular nodes, completly ignoring new ones.\n",
    "\n",
    "Also PageRank has static structure - meaning that we should recalculate graph often leading to our first problem.\n",
    "\n",
    "## Improvements\n",
    "\n",
    "We can slightly impove general algoritm by adding personalized PageRank scores for every particular (This would drain memory fast, but can improve general recommendations)\n",
    "\n",
    "What we should do to implement personalized PageRank\n",
    "\n",
    "-  Create Personalization Vector\n",
    "\n",
    "    The personalization vector is a probabilities distribution over the nodes in the graph. For a end user, this vector assigns higher probabilities to nodes (movies) that the user is interested in.\n",
    "    In our case if user has rates some movies highly, we take this movies as higher influence movies\n",
    "    \n",
    "Modifications to PageRank\n",
    "\n",
    "$$\n",
    "PR(u) = \\frac{1 - d}{N} \\sum_{v \\in B_{u}} \\frac{PR(v)}{L(v)} + d * p_u\n",
    "$$\n",
    "\n",
    "Where:\n",
    "* $PR(u)$ is the PageRank on node $u$\n",
    "* $d$ is damping factor\n",
    "* $B_u$ is a set of nodes that link to $u$\n",
    "* $L(v)$ is number of outbound links from $v$\n",
    "* $p_u$ is pesonalization probability of $u$\n",
    "\n",
    "Baseline implementation are not changed.\n",
    "Let's apply those modification to some user."
   ]
  },
  {
   "cell_type": "code",
   "execution_count": 46,
   "id": "9fd5acbc",
   "metadata": {},
   "outputs": [],
   "source": [
    "user_id = 1 # Sample User\n",
    "user_ratings = ratings[ratings['user_id'] == user_id]\n",
    "personalization = {node: 0 for node in G.nodes()}\n",
    "for movie_id in user_ratings['movie_id']:\n",
    "    personalization[movie_id] = 1 / len(user_ratings)"
   ]
  },
  {
   "cell_type": "code",
   "execution_count": 47,
   "id": "0f24ea0e",
   "metadata": {},
   "outputs": [],
   "source": [
    "personalized_pagerank = nx.pagerank(G, personalization=personalization, weight='weight')"
   ]
  },
  {
   "cell_type": "code",
   "execution_count": 48,
   "id": "ebc8973b",
   "metadata": {},
   "outputs": [],
   "source": [
    "movie_pagerank = {k: v for k, v in personalized_pagerank.items() if k in movie_nodes}\n",
    "top_personalized_movies = sorted(movie_pagerank.items(), key=lambda x: x[1], reverse=True)[:10]"
   ]
  },
  {
   "cell_type": "code",
   "execution_count": 50,
   "id": "49dcbd80",
   "metadata": {},
   "outputs": [
    {
     "data": {
      "text/html": [
       "<div>\n",
       "<style scoped>\n",
       "    .dataframe tbody tr th:only-of-type {\n",
       "        vertical-align: middle;\n",
       "    }\n",
       "\n",
       "    .dataframe tbody tr th {\n",
       "        vertical-align: top;\n",
       "    }\n",
       "\n",
       "    .dataframe thead th {\n",
       "        text-align: right;\n",
       "    }\n",
       "</style>\n",
       "<table border=\"1\" class=\"dataframe\">\n",
       "  <thead>\n",
       "    <tr style=\"text-align: right;\">\n",
       "      <th></th>\n",
       "      <th>ID</th>\n",
       "      <th>Score</th>\n",
       "    </tr>\n",
       "  </thead>\n",
       "  <tbody>\n",
       "    <tr>\n",
       "      <th>0</th>\n",
       "      <td>260</td>\n",
       "      <td>0.004351</td>\n",
       "    </tr>\n",
       "    <tr>\n",
       "      <th>1</th>\n",
       "      <td>2028</td>\n",
       "      <td>0.004148</td>\n",
       "    </tr>\n",
       "    <tr>\n",
       "      <th>2</th>\n",
       "      <td>2762</td>\n",
       "      <td>0.004074</td>\n",
       "    </tr>\n",
       "    <tr>\n",
       "      <th>3</th>\n",
       "      <td>608</td>\n",
       "      <td>0.004068</td>\n",
       "    </tr>\n",
       "    <tr>\n",
       "      <th>4</th>\n",
       "      <td>527</td>\n",
       "      <td>0.004062</td>\n",
       "    </tr>\n",
       "    <tr>\n",
       "      <th>5</th>\n",
       "      <td>1197</td>\n",
       "      <td>0.004009</td>\n",
       "    </tr>\n",
       "    <tr>\n",
       "      <th>6</th>\n",
       "      <td>1270</td>\n",
       "      <td>0.004006</td>\n",
       "    </tr>\n",
       "    <tr>\n",
       "      <th>7</th>\n",
       "      <td>1</td>\n",
       "      <td>0.003972</td>\n",
       "    </tr>\n",
       "    <tr>\n",
       "      <th>8</th>\n",
       "      <td>1097</td>\n",
       "      <td>0.003928</td>\n",
       "    </tr>\n",
       "    <tr>\n",
       "      <th>9</th>\n",
       "      <td>919</td>\n",
       "      <td>0.003837</td>\n",
       "    </tr>\n",
       "  </tbody>\n",
       "</table>\n",
       "</div>"
      ],
      "text/plain": [
       "     ID     Score\n",
       "0   260  0.004351\n",
       "1  2028  0.004148\n",
       "2  2762  0.004074\n",
       "3   608  0.004068\n",
       "4   527  0.004062\n",
       "5  1197  0.004009\n",
       "6  1270  0.004006\n",
       "7     1  0.003972\n",
       "8  1097  0.003928\n",
       "9   919  0.003837"
      ]
     },
     "execution_count": 50,
     "metadata": {},
     "output_type": "execute_result"
    }
   ],
   "source": [
    "pd.DataFrame(top_personalized_movies, columns=['ID', 'Score'])"
   ]
  },
  {
   "cell_type": "markdown",
   "id": "97d3b87b",
   "metadata": {},
   "source": [
    "This version will benefit in case to create a user specific recommendations  as well as improved handling of Diverse Interests\n",
    "\n",
    "But it will dramatically increase compuration resources needed to perform this algoritm as well as memory needed to store all matrices for every user."
   ]
  },
  {
   "cell_type": "code",
   "execution_count": null,
   "id": "f3c8c47a",
   "metadata": {},
   "outputs": [],
   "source": []
  }
 ],
 "metadata": {
  "kernelspec": {
   "display_name": "Python 3 (ipykernel)",
   "language": "python",
   "name": "python3"
  },
  "language_info": {
   "codemirror_mode": {
    "name": "ipython",
    "version": 3
   },
   "file_extension": ".py",
   "mimetype": "text/x-python",
   "name": "python",
   "nbconvert_exporter": "python",
   "pygments_lexer": "ipython3",
   "version": "3.11.5"
  }
 },
 "nbformat": 4,
 "nbformat_minor": 5
}
